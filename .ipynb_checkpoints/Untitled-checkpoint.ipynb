{
 "cells": [
  {
   "cell_type": "code",
   "execution_count": 1,
   "id": "777ec18d",
   "metadata": {},
   "outputs": [],
   "source": [
    "CLIENT_ID = '7erXxSCRVGIsaQmlqFSbkA'\n",
    "SECRET_KEY = 'I_uAChtsSbG_PcXoJYK50cGUaRAWIg'\n"
   ]
  },
  {
   "cell_type": "code",
   "execution_count": 2,
   "id": "bd71535a",
   "metadata": {},
   "outputs": [],
   "source": [
    "import requests.auth"
   ]
  },
  {
   "cell_type": "code",
   "execution_count": 3,
   "id": "226cb490",
   "metadata": {},
   "outputs": [],
   "source": [
    "auth = requests.auth.HTTPBasicAuth(CLIENT_ID,SECRET_KEY)"
   ]
  },
  {
   "cell_type": "code",
   "execution_count": 4,
   "id": "9a2174db",
   "metadata": {},
   "outputs": [],
   "source": [
    "with open('pw.txt','r') as f:\n",
    "    pw = f.read()"
   ]
  },
  {
   "cell_type": "code",
   "execution_count": null,
   "id": "8fc377df",
   "metadata": {},
   "outputs": [],
   "source": []
  },
  {
   "cell_type": "code",
   "execution_count": 5,
   "id": "74f95078",
   "metadata": {},
   "outputs": [],
   "source": [
    "data = {'grant_type': 'password',\n",
    "        'username': 'kamanakarki6',\n",
    "        'password': 'kamana321'}"
   ]
  },
  {
   "cell_type": "code",
   "execution_count": 6,
   "id": "d5cd49ed",
   "metadata": {},
   "outputs": [],
   "source": [
    "headers = {'User-Agent': 'MyBot/0.0.1'}"
   ]
  },
  {
   "cell_type": "code",
   "execution_count": 7,
   "id": "9f45a58c",
   "metadata": {},
   "outputs": [],
   "source": [
    "res = requests.post('https://www.reddit.com/api/v1/access_token',\n",
    "                    auth=auth, data=data, headers=headers)"
   ]
  },
  {
   "cell_type": "code",
   "execution_count": 8,
   "id": "28c4cb85",
   "metadata": {},
   "outputs": [
    {
     "data": {
      "text/plain": [
       "200"
      ]
     },
     "execution_count": 8,
     "metadata": {},
     "output_type": "execute_result"
    }
   ],
   "source": [
    "res.status_code"
   ]
  },
  {
   "cell_type": "code",
   "execution_count": 9,
   "id": "752f1bb8",
   "metadata": {},
   "outputs": [
    {
     "data": {
      "text/plain": [
       "<Response [200]>"
      ]
     },
     "execution_count": 9,
     "metadata": {},
     "output_type": "execute_result"
    }
   ],
   "source": [
    "res\n",
    "\n"
   ]
  },
  {
   "cell_type": "code",
   "execution_count": 10,
   "id": "dcb7280f",
   "metadata": {},
   "outputs": [
    {
     "data": {
      "text/plain": [
       "{'access_token': '1875947786994-GbQllmSr7sQedVTtCVTDnyz8mlk2QA',\n",
       " 'token_type': 'bearer',\n",
       " 'expires_in': 86400,\n",
       " 'scope': '*'}"
      ]
     },
     "execution_count": 10,
     "metadata": {},
     "output_type": "execute_result"
    }
   ],
   "source": [
    "res.json()"
   ]
  },
  {
   "cell_type": "code",
   "execution_count": 11,
   "id": "36786284",
   "metadata": {},
   "outputs": [],
   "source": [
    "TOKEN = res.json()['access_token']\n"
   ]
  },
  {
   "cell_type": "code",
   "execution_count": 12,
   "id": "69d20a24",
   "metadata": {
    "scrolled": true
   },
   "outputs": [
    {
     "data": {
      "text/plain": [
       "'1875947786994-GbQllmSr7sQedVTtCVTDnyz8mlk2QA'"
      ]
     },
     "execution_count": 12,
     "metadata": {},
     "output_type": "execute_result"
    }
   ],
   "source": [
    "TOKEN"
   ]
  },
  {
   "cell_type": "code",
   "execution_count": 13,
   "id": "1a4f41c6",
   "metadata": {},
   "outputs": [
    {
     "data": {
      "text/plain": [
       "<Response [404]>"
      ]
     },
     "execution_count": 13,
     "metadata": {},
     "output_type": "execute_result"
    }
   ],
   "source": [
    "\n",
    "headers = {**headers, **{'Authorization': f\"bearer {TOKEN}\"}}\n",
    "\n",
    "# while the token is valid (~2 hours) we just add headers=headers to our requests\n",
    "requests.get('https://oauth.reddit.com/api/', headers=headers)"
   ]
  },
  {
   "cell_type": "code",
   "execution_count": 14,
   "id": "595247af",
   "metadata": {},
   "outputs": [
    {
     "name": "stdout",
     "output_type": "stream",
     "text": [
      "{'kind': 'Listing', 'data': {'after': None, 'dist': 4, 'modhash': None, 'geo_filter': '', 'children': [{'kind': 't3', 'data': {'approved_at_utc': None, 'subreddit': 'subreddit', 'selftext': '', 'author_fullname': 't2_mylu2kdz', 'saved': False, 'mod_reason_title': None, 'gilded': 0, 'clicked': False, 'title': 'Hi. I have a sub called r/movietriviacrack. You can post fun or interesting facts about movies in this subreddit.', 'link_flair_richtext': [], 'subreddit_name_prefixed': 'r/subreddit', 'hidden': False, 'pwls': 6, 'link_flair_css_class': 'Subreddit', 'downs': 0, 'thumbnail_height': None, 'top_awarded_type': None, 'hide_score': False, 'name': 't3_vibbgl', 'quarantine': False, 'link_flair_text_color': 'dark', 'upvote_ratio': 1.0, 'author_flair_background_color': None, 'subreddit_type': 'public', 'ups': 2, 'total_awards_received': 0, 'media_embed': {}, 'thumbnail_width': None, 'author_flair_template_id': None, 'is_original_content': False, 'user_reports': [], 'secure_media': None, 'is_reddit_media_domain': False, 'is_meta': False, 'category': None, 'secure_media_embed': {}, 'link_flair_text': 'Subreddit', 'can_mod_post': False, 'score': 2, 'approved_by': None, 'is_created_from_ads_ui': False, 'author_premium': False, 'thumbnail': 'self', 'edited': False, 'author_flair_css_class': None, 'author_flair_richtext': [], 'gildings': {}, 'content_categories': None, 'is_self': True, 'mod_note': None, 'created': 1655920924.0, 'link_flair_type': 'text', 'wls': 6, 'removed_by_category': None, 'banned_by': None, 'author_flair_type': 'text', 'domain': 'self.subreddit', 'allow_live_comments': False, 'selftext_html': None, 'likes': None, 'suggested_sort': None, 'banned_at_utc': None, 'view_count': None, 'archived': False, 'no_follow': False, 'is_crosspostable': True, 'pinned': False, 'over_18': False, 'all_awardings': [], 'awarders': [], 'media_only': False, 'link_flair_template_id': '1ba11552-204e-11e4-90df-12313b0ead28', 'can_gild': True, 'spoiler': False, 'locked': False, 'author_flair_text': None, 'treatment_tags': [], 'visited': False, 'removed_by': None, 'num_reports': None, 'distinguished': None, 'subreddit_id': 't5_2qi8c', 'author_is_blocked': False, 'mod_reason_by': None, 'removal_reason': None, 'link_flair_background_color': '', 'id': 'vibbgl', 'is_robot_indexable': True, 'report_reasons': None, 'author': 'aladyoragentleman', 'discussion_type': None, 'num_comments': 0, 'send_replies': True, 'whitelist_status': 'all_ads', 'contest_mode': False, 'mod_reports': [], 'author_patreon_flair': False, 'author_flair_text_color': None, 'permalink': '/r/subreddit/comments/vibbgl/hi_i_have_a_sub_called_rmovietriviacrack_you_can/', 'parent_whitelist_status': 'all_ads', 'stickied': False, 'url': 'https://www.reddit.com/r/subreddit/comments/vibbgl/hi_i_have_a_sub_called_rmovietriviacrack_you_can/', 'subreddit_subscribers': 18977, 'created_utc': 1655920924.0, 'num_crossposts': 0, 'media': None, 'is_video': False}}, {'kind': 't3', 'data': {'approved_at_utc': None, 'subreddit': 'subreddit', 'selftext': '', 'author_fullname': 't2_97il220j', 'saved': False, 'mod_reason_title': None, 'gilded': 0, 'clicked': False, 'title': 'do you find sites that you have never seen before well this sub is for you.', 'link_flair_richtext': [], 'subreddit_name_prefixed': 'r/subreddit', 'hidden': False, 'pwls': 6, 'link_flair_css_class': 'Subreddit', 'downs': 0, 'thumbnail_height': None, 'top_awarded_type': None, 'hide_score': False, 'name': 't3_vik37b', 'quarantine': False, 'link_flair_text_color': 'dark', 'upvote_ratio': 1.0, 'author_flair_background_color': None, 'subreddit_type': 'public', 'ups': 1, 'total_awards_received': 0, 'media_embed': {}, 'thumbnail_width': None, 'author_flair_template_id': None, 'is_original_content': False, 'user_reports': [], 'secure_media': None, 'is_reddit_media_domain': False, 'is_meta': False, 'category': None, 'secure_media_embed': {}, 'link_flair_text': 'Subreddit', 'can_mod_post': False, 'score': 1, 'approved_by': None, 'is_created_from_ads_ui': False, 'author_premium': False, 'thumbnail': 'default', 'edited': False, 'author_flair_css_class': None, 'author_flair_richtext': [], 'gildings': {}, 'content_categories': None, 'is_self': False, 'mod_note': None, 'created': 1655944950.0, 'link_flair_type': 'text', 'wls': 6, 'removed_by_category': None, 'banned_by': None, 'author_flair_type': 'text', 'domain': 'reddit.com', 'allow_live_comments': False, 'selftext_html': None, 'likes': None, 'suggested_sort': None, 'banned_at_utc': None, 'url_overridden_by_dest': 'https://www.reddit.com/r/werid_sites_i_find/', 'view_count': None, 'archived': False, 'no_follow': True, 'is_crosspostable': True, 'pinned': False, 'over_18': False, 'all_awardings': [], 'awarders': [], 'media_only': False, 'can_gild': True, 'spoiler': False, 'locked': False, 'author_flair_text': None, 'treatment_tags': [], 'visited': False, 'removed_by': None, 'num_reports': None, 'distinguished': None, 'subreddit_id': 't5_2qi8c', 'author_is_blocked': False, 'mod_reason_by': None, 'removal_reason': None, 'link_flair_background_color': '', 'id': 'vik37b', 'is_robot_indexable': True, 'report_reasons': None, 'author': 'Shortcut_fixer', 'discussion_type': None, 'num_comments': 0, 'send_replies': True, 'whitelist_status': 'all_ads', 'contest_mode': False, 'mod_reports': [], 'author_patreon_flair': False, 'author_flair_text_color': None, 'permalink': '/r/subreddit/comments/vik37b/do_you_find_sites_that_you_have_never_seen_before/', 'parent_whitelist_status': 'all_ads', 'stickied': False, 'url': 'https://www.reddit.com/r/werid_sites_i_find/', 'subreddit_subscribers': 18977, 'created_utc': 1655944950.0, 'num_crossposts': 0, 'media': None, 'is_video': False}}, {'kind': 't3', 'data': {'approved_at_utc': None, 'subreddit': 'subreddit', 'selftext': 'rule 34 for the unrecognized artist inkplasm come join and look at large dicks today! r/inkplasmrule34', 'author_fullname': 't2_ce3z6wry', 'saved': False, 'mod_reason_title': None, 'gilded': 0, 'clicked': False, 'title': 'Inkplasm rule 34 subreddit', 'link_flair_richtext': [], 'subreddit_name_prefixed': 'r/subreddit', 'hidden': False, 'pwls': 6, 'link_flair_css_class': 'Subreddit', 'downs': 0, 'thumbnail_height': None, 'top_awarded_type': None, 'hide_score': False, 'name': 't3_vijz2h', 'quarantine': False, 'link_flair_text_color': 'dark', 'upvote_ratio': 1.0, 'author_flair_background_color': None, 'subreddit_type': 'public', 'ups': 1, 'total_awards_received': 0, 'media_embed': {}, 'thumbnail_width': None, 'author_flair_template_id': None, 'is_original_content': False, 'user_reports': [], 'secure_media': None, 'is_reddit_media_domain': False, 'is_meta': False, 'category': None, 'secure_media_embed': {}, 'link_flair_text': 'Subreddit', 'can_mod_post': False, 'score': 1, 'approved_by': None, 'is_created_from_ads_ui': False, 'author_premium': False, 'thumbnail': 'nsfw', 'edited': False, 'author_flair_css_class': None, 'author_flair_richtext': [], 'gildings': {}, 'content_categories': None, 'is_self': True, 'mod_note': None, 'created': 1655944587.0, 'link_flair_type': 'text', 'wls': 3, 'removed_by_category': None, 'banned_by': None, 'author_flair_type': 'text', 'domain': 'self.subreddit', 'allow_live_comments': False, 'selftext_html': '&lt;!-- SC_OFF --&gt;&lt;div class=\"md\"&gt;&lt;p&gt;rule 34 for the unrecognized artist inkplasm come join and look at large dicks today! &lt;a href=\"/r/inkplasmrule34\"&gt;r/inkplasmrule34&lt;/a&gt;&lt;/p&gt;\\n&lt;/div&gt;&lt;!-- SC_ON --&gt;', 'likes': None, 'suggested_sort': None, 'banned_at_utc': None, 'view_count': None, 'archived': False, 'no_follow': True, 'is_crosspostable': True, 'pinned': False, 'over_18': True, 'all_awardings': [], 'awarders': [], 'media_only': False, 'link_flair_template_id': '1ba11552-204e-11e4-90df-12313b0ead28', 'can_gild': True, 'spoiler': True, 'locked': False, 'author_flair_text': None, 'treatment_tags': [], 'visited': False, 'removed_by': None, 'num_reports': None, 'distinguished': None, 'subreddit_id': 't5_2qi8c', 'author_is_blocked': False, 'mod_reason_by': None, 'removal_reason': None, 'link_flair_background_color': '', 'id': 'vijz2h', 'is_robot_indexable': True, 'report_reasons': None, 'author': 'the-last_dovahkiin', 'discussion_type': None, 'num_comments': 0, 'send_replies': True, 'whitelist_status': 'promo_adult_nsfw', 'contest_mode': False, 'mod_reports': [], 'author_patreon_flair': False, 'author_flair_text_color': None, 'permalink': '/r/subreddit/comments/vijz2h/inkplasm_rule_34_subreddit/', 'parent_whitelist_status': 'all_ads', 'stickied': False, 'url': 'https://www.reddit.com/r/subreddit/comments/vijz2h/inkplasm_rule_34_subreddit/', 'subreddit_subscribers': 18977, 'created_utc': 1655944587.0, 'num_crossposts': 0, 'media': None, 'is_video': False}}, {'kind': 't3', 'data': {'approved_at_utc': None, 'subreddit': 'subreddit', 'selftext': 'I know exactly what this sun is about but I have no idea what the name is. Please help', 'author_fullname': 't2_1j9lt53w', 'saved': False, 'mod_reason_title': None, 'gilded': 0, 'clicked': False, 'title': 'A subreddit that posts pictures where you comment songs that match the atmosphere of the picture', 'link_flair_richtext': [], 'subreddit_name_prefixed': 'r/subreddit', 'hidden': False, 'pwls': 6, 'link_flair_css_class': 'Subreddit', 'downs': 0, 'thumbnail_height': None, 'top_awarded_type': None, 'hide_score': False, 'name': 't3_vidh8o', 'quarantine': False, 'link_flair_text_color': 'dark', 'upvote_ratio': 1.0, 'author_flair_background_color': None, 'subreddit_type': 'public', 'ups': 1, 'total_awards_received': 0, 'media_embed': {}, 'thumbnail_width': None, 'author_flair_template_id': None, 'is_original_content': False, 'user_reports': [], 'secure_media': None, 'is_reddit_media_domain': False, 'is_meta': False, 'category': None, 'secure_media_embed': {}, 'link_flair_text': 'Subreddit', 'can_mod_post': False, 'score': 1, 'approved_by': None, 'is_created_from_ads_ui': False, 'author_premium': False, 'thumbnail': 'self', 'edited': False, 'author_flair_css_class': None, 'author_flair_richtext': [], 'gildings': {}, 'content_categories': None, 'is_self': True, 'mod_note': None, 'created': 1655926661.0, 'link_flair_type': 'text', 'wls': 6, 'removed_by_category': None, 'banned_by': None, 'author_flair_type': 'text', 'domain': 'self.subreddit', 'allow_live_comments': False, 'selftext_html': '&lt;!-- SC_OFF --&gt;&lt;div class=\"md\"&gt;&lt;p&gt;I know exactly what this sun is about but I have no idea what the name is. Please help&lt;/p&gt;\\n&lt;/div&gt;&lt;!-- SC_ON --&gt;', 'likes': None, 'suggested_sort': None, 'banned_at_utc': None, 'view_count': None, 'archived': False, 'no_follow': True, 'is_crosspostable': True, 'pinned': False, 'over_18': False, 'all_awardings': [], 'awarders': [], 'media_only': False, 'link_flair_template_id': '1ba11552-204e-11e4-90df-12313b0ead28', 'can_gild': True, 'spoiler': False, 'locked': False, 'author_flair_text': None, 'treatment_tags': [], 'visited': False, 'removed_by': None, 'num_reports': None, 'distinguished': None, 'subreddit_id': 't5_2qi8c', 'author_is_blocked': False, 'mod_reason_by': None, 'removal_reason': None, 'link_flair_background_color': '', 'id': 'vidh8o', 'is_robot_indexable': True, 'report_reasons': None, 'author': 'CyberFire068', 'discussion_type': None, 'num_comments': 0, 'send_replies': True, 'whitelist_status': 'all_ads', 'contest_mode': False, 'mod_reports': [], 'author_patreon_flair': False, 'author_flair_text_color': None, 'permalink': '/r/subreddit/comments/vidh8o/a_subreddit_that_posts_pictures_where_you_comment/', 'parent_whitelist_status': 'all_ads', 'stickied': False, 'url': 'https://www.reddit.com/r/subreddit/comments/vidh8o/a_subreddit_that_posts_pictures_where_you_comment/', 'subreddit_subscribers': 18977, 'created_utc': 1655926661.0, 'num_crossposts': 0, 'media': None, 'is_video': False}}], 'before': None}}\n"
     ]
    }
   ],
   "source": [
    "\n",
    "res = requests.get(\"https://oauth.reddit.com/r/subreddit/top\",\n",
    "                   headers=headers)\n",
    "\n",
    "print(res.json())"
   ]
  },
  {
   "cell_type": "code",
   "execution_count": 15,
   "id": "825761d9",
   "metadata": {},
   "outputs": [],
   "source": [
    "import pandas as pd\n",
    "import datetime"
   ]
  },
  {
   "cell_type": "code",
   "execution_count": 16,
   "id": "9af3a1f7",
   "metadata": {},
   "outputs": [],
   "source": [
    "df = pd.DataFrame(res)"
   ]
  },
  {
   "cell_type": "code",
   "execution_count": 21,
   "id": "ec7d3fa1",
   "metadata": {},
   "outputs": [
    {
     "name": "stdout",
     "output_type": "stream",
     "text": [
      "An Error Occured\n"
     ]
    },
    {
     "ename": "UnboundLocalError",
     "evalue": "local variable 'request' referenced before assignment",
     "output_type": "error",
     "traceback": [
      "\u001b[1;31m---------------------------------------------------------------------------\u001b[0m",
      "\u001b[1;31mUnboundLocalError\u001b[0m                         Traceback (most recent call last)",
      "Input \u001b[1;32mIn [21]\u001b[0m, in \u001b[0;36m<cell line: 17>\u001b[1;34m()\u001b[0m\n\u001b[0;32m     14\u001b[0m         \u001b[38;5;28mprint\u001b[39m(\u001b[38;5;124m'\u001b[39m\u001b[38;5;124mAn Error Occured\u001b[39m\u001b[38;5;124m'\u001b[39m)\n\u001b[0;32m     15\u001b[0m     \u001b[38;5;28;01mreturn\u001b[39;00m request\u001b[38;5;241m.\u001b[39mjson()\n\u001b[1;32m---> 17\u001b[0m r \u001b[38;5;241m=\u001b[39m \u001b[43mget_reddit\u001b[49m\u001b[43m(\u001b[49m\u001b[43msubreddit\u001b[49m\u001b[43m,\u001b[49m\u001b[43mlisting\u001b[49m\u001b[43m,\u001b[49m\u001b[43mlimit\u001b[49m\u001b[43m,\u001b[49m\u001b[43mtimeframe\u001b[49m\u001b[43m)\u001b[49m\n",
      "Input \u001b[1;32mIn [21]\u001b[0m, in \u001b[0;36mget_reddit\u001b[1;34m(subreddit, listing, limit, timeframe)\u001b[0m\n\u001b[0;32m     13\u001b[0m \u001b[38;5;28;01mexcept\u001b[39;00m:\n\u001b[0;32m     14\u001b[0m     \u001b[38;5;28mprint\u001b[39m(\u001b[38;5;124m'\u001b[39m\u001b[38;5;124mAn Error Occured\u001b[39m\u001b[38;5;124m'\u001b[39m)\n\u001b[1;32m---> 15\u001b[0m \u001b[38;5;28;01mreturn\u001b[39;00m \u001b[43mrequest\u001b[49m\u001b[38;5;241m.\u001b[39mjson()\n",
      "\u001b[1;31mUnboundLocalError\u001b[0m: local variable 'request' referenced before assignment"
     ]
    }
   ],
   "source": [
    "import requests\n",
    " \n",
    "subreddit = 'python'\n",
    "limit = 100\n",
    "timeframe = 'month' #hour, day, week, month, year, all\n",
    "listing = 'top' # controversial, best, hot, new, random, rising, top\n",
    "request = requests.get(auth=auth, data=data, headers = {'User-agent': 'MyBot/0.0.1'})\n",
    "def get_reddit(subreddit,listing,limit,timeframe):\n",
    "    try:\n",
    "        \n",
    "        base_url = f'https://www.reddit.com/r/{subreddit}/{listing}.json?limit={limit}&t={timeframe}'\n",
    "       \n",
    "    except:\n",
    "        print('An Error Occured')\n",
    "    return request.json()\n",
    " \n",
    "r = get_reddit(subreddit,listing,limit,timeframe)"
   ]
  },
  {
   "cell_type": "code",
   "execution_count": 18,
   "id": "db3cc326",
   "metadata": {},
   "outputs": [],
   "source": []
  },
  {
   "cell_type": "code",
   "execution_count": null,
   "id": "775b1b6d",
   "metadata": {},
   "outputs": [],
   "source": []
  },
  {
   "cell_type": "code",
   "execution_count": null,
   "id": "59ef5971",
   "metadata": {},
   "outputs": [],
   "source": []
  },
  {
   "cell_type": "code",
   "execution_count": null,
   "id": "91b76f78",
   "metadata": {},
   "outputs": [],
   "source": []
  }
 ],
 "metadata": {
  "kernelspec": {
   "display_name": "Python 3 (ipykernel)",
   "language": "python",
   "name": "python3"
  },
  "language_info": {
   "codemirror_mode": {
    "name": "ipython",
    "version": 3
   },
   "file_extension": ".py",
   "mimetype": "text/x-python",
   "name": "python",
   "nbconvert_exporter": "python",
   "pygments_lexer": "ipython3",
   "version": "3.9.12"
  }
 },
 "nbformat": 4,
 "nbformat_minor": 5
}
